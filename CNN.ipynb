{
 "cells": [
  {
   "cell_type": "code",
   "execution_count": 6,
   "id": "20fe9ad4",
   "metadata": {},
   "outputs": [],
   "source": [
    "import tensorflow as tf\n",
    "from tensorflow.keras.models import Sequential\n",
    "from tensorflow.keras.layers import Conv2D, MaxPooling2D, Dense\n",
    ",Flatten, Dropout\n",
    "from tensorflow.keras.datasets import mnist\n",
    "import numpy as np"
   ]
  },
  {
   "cell_type": "code",
   "execution_count": null,
   "id": "6f0295db",
   "metadata": {},
   "outputs": [],
   "source": [
    "#load the data\n",
    "(X_train,y_train),(X_test,y_test)= mnist.load_data()\n",
    "\n",
    "#reshape the data\n",
    "X_train = X_train.reshape((X_train.shape[0], X_train.shape[1], X_train.shape[2], 1))\n",
    "X_test = X_test.reshape((X_test.shape[0], X_test.shape[1], X_test.shape[2], 1))\n",
    "\n",
    "check the shape after reshaping the data\n",
    "\n",
    "print(X_train.shape)\n",
    "print(X_test.shape)\n",
    "\n",
    "#normalize the pixel value\n",
    "X_train = X_train/255\n",
    "X_test = X_test/255\n"
   ]
  },
  {
   "cell_type": "code",
   "execution_count": null,
   "id": "f41ed52c",
   "metadata": {},
   "outputs": [],
   "source": [
    "# define model\n",
    "model = Sequential()\n",
    "\n",
    "#add convolution layer\n",
    "model.add(Conv2D(32,(3,3),activation = 'relu',input_shape = (28,28.1)))\n",
    "\n",
    "#adding a pooling layer\n",
    "model.add(MaxPool2D(2,2))\n",
    "\n",
    "#add fully connected layer\n",
    "model.add(Flatten())\n",
    "model.add(Dense(100,activation = 'relu'))\n",
    "\n",
    "#output layer\n",
    "model.add(Dense(10, activation = 'softmax'))\n",
    "\n",
    "#compiling layers\n",
    "model.compile(loss = 'sparse_categorical_crossentropy', optimizer = 'adam', metrics = ['accuracy'])\n",
    "\n",
    "#fit the model\n",
    "model.fit(X_train,y_train, epochs=20)"
   ]
  }
 ],
 "metadata": {
  "kernelspec": {
   "display_name": "Python 3 (ipykernel)",
   "language": "python",
   "name": "python3"
  },
  "language_info": {
   "codemirror_mode": {
    "name": "ipython",
    "version": 3
   },
   "file_extension": ".py",
   "mimetype": "text/x-python",
   "name": "python",
   "nbconvert_exporter": "python",
   "pygments_lexer": "ipython3",
   "version": "3.9.12"
  }
 },
 "nbformat": 4,
 "nbformat_minor": 5
}
