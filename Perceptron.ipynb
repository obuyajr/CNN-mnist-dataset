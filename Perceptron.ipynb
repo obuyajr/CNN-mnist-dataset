{
 "cells": [
  {
   "cell_type": "code",
   "execution_count": 31,
   "id": "d474cd1e",
   "metadata": {},
   "outputs": [],
   "source": [
    "import numpy as np\n",
    "\n",
    "class Perceptron:\n",
    "    def __init__(self,learning_rate = 0.01, iterations_no =100):\n",
    "        self.lr = learning_rate\n",
    "        self.iterations = iterations_no\n",
    "        self.act_func = self.activation_func\n",
    "        self.bias = None\n",
    "        self.weights = None\n",
    "    \n",
    "    def fit(self, X, y):\n",
    "        #X-training samples y-training label\n",
    "        n_samples, n_features = X.shape\n",
    "        \n",
    "        #initialize weights\n",
    "        self.weights = np.zeros(n_features)\n",
    "        self.bias = 0\n",
    "        \n",
    "        #ensure y only consist of 0 and 1\n",
    "        y_ = np.array([1 if i > 0 else 0 for i in y])\n",
    "        \n",
    "        for _ in range(self.iterations):\n",
    "            for idx, x_i in enumerate(X):\n",
    "                linear_output = np.dot(x_i, self.weights) + self.bias\n",
    "                predicted_res = self.act_func(linear_output)\n",
    "                return predicted_res\n",
    "            \n",
    "                update = self.lr * ( y_[idx] - predicted_res)\n",
    "                self.weights += update * x_i\n",
    "                self.bias += update\n",
    "        \n",
    "    \n",
    "    def predict(self, X):\n",
    "        #X- test samples\n",
    "        #apply linear functions \n",
    "        \n",
    "        linear_output = np.dot(X, self.weights) + self.bias\n",
    "        predicted_res = self.activation_func(linear_output)\n",
    "        return predicted_res \n",
    "        \n",
    "        \n",
    "    def activation_func(self, x):\n",
    "        #works for multiple sets of input - if x >= o return 1 else 0\n",
    "        return np.where(x >= 0,1,0)\n",
    "    \n",
    "   "
   ]
  },
  {
   "cell_type": "code",
   "execution_count": 32,
   "id": "972d226c",
   "metadata": {},
   "outputs": [
    {
     "name": "stdout",
     "output_type": "stream",
     "text": [
      "perceptron acc <function accuracy at 0x00000210CF720D30>\n"
     ]
    },
    {
     "ename": "NameError",
     "evalue": "name 'ax' is not defined",
     "output_type": "error",
     "traceback": [
      "\u001b[1;31m---------------------------------------------------------------------------\u001b[0m",
      "\u001b[1;31mNameError\u001b[0m                                 Traceback (most recent call last)",
      "Input \u001b[1;32mIn [32]\u001b[0m, in \u001b[0;36m<cell line: 22>\u001b[1;34m()\u001b[0m\n\u001b[0;32m     19\u001b[0m \u001b[38;5;28mprint\u001b[39m(\u001b[38;5;124m\"\u001b[39m\u001b[38;5;124mperceptron acc\u001b[39m\u001b[38;5;124m\"\u001b[39m,accuracy(y_test,predictions))\n\u001b[0;32m     21\u001b[0m fig \u001b[38;5;241m=\u001b[39m plt\u001b[38;5;241m.\u001b[39mfigure()\n\u001b[1;32m---> 22\u001b[0m \u001b[43max\u001b[49m\u001b[38;5;241m.\u001b[39mfig\u001b[38;5;241m.\u001b[39madd_subplot(\u001b[38;5;241m1\u001b[39m,\u001b[38;5;241m1\u001b[39m,\u001b[38;5;241m1\u001b[39m)\n\u001b[0;32m     23\u001b[0m plt\u001b[38;5;241m.\u001b[39mscatter(X_train[:,\u001b[38;5;241m0\u001b[39m], X_train[:,\u001b[38;5;241m1\u001b[39m], marker\u001b[38;5;241m=\u001b[39m\u001b[38;5;124m'\u001b[39m\u001b[38;5;124mo\u001b[39m\u001b[38;5;124m'\u001b[39m,c\u001b[38;5;241m=\u001b[39my_train)\n\u001b[0;32m     25\u001b[0m x0_1 \u001b[38;5;241m=\u001b[39m np\u001b[38;5;241m.\u001b[39mamin(X_train[:,\u001b[38;5;241m0\u001b[39m])\n",
      "\u001b[1;31mNameError\u001b[0m: name 'ax' is not defined"
     ]
    },
    {
     "data": {
      "text/plain": [
       "<Figure size 432x288 with 0 Axes>"
      ]
     },
     "metadata": {},
     "output_type": "display_data"
    }
   ],
   "source": [
    "import numpy as np\n",
    "from sklearn.model_selection import train_test_split\n",
    "from sklearn import datasets\n",
    "import matplotlib.pyplot as plt\n",
    "\n",
    "from perceptron import Perceptron\n",
    "\n",
    "def accuracy (y_true, y_pred):\n",
    "    accuravy = np.sum(y_true == y_pred)/ len(y_true)\n",
    "    return accuracy\n",
    "\n",
    "X, y = datasets.make_blobs(n_samples = 200, n_features = 2, centers = 2, cluster_std  = 1.04, random_state = 2)\n",
    "X_train,X_test,y_train,y_test = train_test_split(X,y, test_size = 0.2, random_state = 123)\n",
    "\n",
    "p= Perceptron(learning_rate  = 0.01, iterations_no = 100)\n",
    "p.fit(X_train, y_train)\n",
    "predictions = p.predict(X_test)\n",
    "\n",
    "print(\"perceptron acc\",accuracy(y_test,predictions))\n",
    "\n",
    "fig = plt.figure()\n",
    "ax.fig.add_subplot(1,1,1)\n",
    "plt.scatter(X_train[:,0], X_train[:,1], marker='o',c=y_train)\n",
    "\n",
    "x0_1 = np.amin(X_train[:,0])\n",
    "x0_2 = np.amin(X_train[:,0])\n",
    "\n",
    "x1_1 = (-p.weights[0] * x0_1-p.bias) / p.weights[1]\n",
    "x1_2 = (-p.weights[0] * x0_2-p.bias) / p.weights[1]\n",
    "\n",
    "ax.plot([x0_1, x0_2],[x1_1, x1_2], 'k')\n",
    "\n",
    "ymin =np.amin(X_train[:,1])\n",
    "ymax =np.amax(X_train[:,1])\n",
    "\n",
    "ax.set_ylim( [ymin-3,ymax+3])\n",
    "\n",
    "plot.show()\n",
    "\n",
    "\n",
    "\n",
    "\n"
   ]
  },
  {
   "cell_type": "code",
   "execution_count": null,
   "id": "842f2885",
   "metadata": {},
   "outputs": [],
   "source": []
  }
 ],
 "metadata": {
  "kernelspec": {
   "display_name": "Python 3 (ipykernel)",
   "language": "python",
   "name": "python3"
  },
  "language_info": {
   "codemirror_mode": {
    "name": "ipython",
    "version": 3
   },
   "file_extension": ".py",
   "mimetype": "text/x-python",
   "name": "python",
   "nbconvert_exporter": "python",
   "pygments_lexer": "ipython3",
   "version": "3.9.12"
  }
 },
 "nbformat": 4,
 "nbformat_minor": 5
}
